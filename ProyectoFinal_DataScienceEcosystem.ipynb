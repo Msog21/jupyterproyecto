{
  "metadata": {
    "language_info": {
      "codemirror_mode": {
        "name": "python",
        "version": 3
      },
      "file_extension": ".py",
      "mimetype": "text/x-python",
      "name": "python",
      "nbconvert_exporter": "python",
      "pygments_lexer": "ipython3",
      "version": "3.8"
    },
    "kernelspec": {
      "name": "python",
      "display_name": "Python (Pyodide)",
      "language": "python"
    }
  },
  "nbformat_minor": 4,
  "nbformat": 4,
  "cells": [
    {
      "cell_type": "markdown",
      "source": "<h1>Data Science Tools And Ecosystem </h1>",
      "metadata": {}
    },
    {
      "cell_type": "markdown",
      "source": "<img src=https://cdn.educba.com/academy/wp-content/uploads/2019/08/Data-Science-Tools.png>",
      "metadata": {}
    },
    {
      "cell_type": "markdown",
      "source": "<h2>The data science ecosystem is a set of tools, technologies, and methodologies used to collect, store, process, and analyze large amounts of data in order to obtain useful insights and insights.</h2>",
      "metadata": {}
    },
    {
      "cell_type": "markdown",
      "source": "<h3> Some of the popular languages that Data Scientists use are:</h3>",
      "metadata": {}
    },
    {
      "cell_type": "markdown",
      "source": "1. Python \n2. R \n3. SQL \n4. Java \n5. C\n6. C++",
      "metadata": {}
    },
    {
      "cell_type": "markdown",
      "source": "<h2> Some of the commonly used libraries used by Data Scientists include: </h2>",
      "metadata": {}
    },
    {
      "cell_type": "markdown",
      "source": "- TensorFlow.\n- Ciencia.\n- Pandas.\n- NumPy.\n- Scikit-learn.\n- Keras.\n- Scrapy.\n- PyTorch.",
      "metadata": {}
    },
    {
      "cell_type": "code",
      "source": "import pandas as pd\ntabla=pd.DataFrame(data = [['Python'],['Lenguaje R'],['Hadoop']], columns = ['Data Science Tools'])\ntabla",
      "metadata": {
        "trusted": true
      },
      "execution_count": 11,
      "outputs": [
        {
          "execution_count": 11,
          "output_type": "execute_result",
          "data": {
            "text/plain": "  Data Science Tools\n0             Python\n1         Lenguaje R\n2             Hadoop",
            "text/html": "<div>\n<style scoped>\n    .dataframe tbody tr th:only-of-type {\n        vertical-align: middle;\n    }\n\n    .dataframe tbody tr th {\n        vertical-align: top;\n    }\n\n    .dataframe thead th {\n        text-align: right;\n    }\n</style>\n<table border=\"1\" class=\"dataframe\">\n  <thead>\n    <tr style=\"text-align: right;\">\n      <th></th>\n      <th>Data Science Tools</th>\n    </tr>\n  </thead>\n  <tbody>\n    <tr>\n      <th>0</th>\n      <td>Python</td>\n    </tr>\n    <tr>\n      <th>1</th>\n      <td>Lenguaje R</td>\n    </tr>\n    <tr>\n      <th>2</th>\n      <td>Hadoop</td>\n    </tr>\n  </tbody>\n</table>\n</div>"
          },
          "metadata": {}
        }
      ]
    },
    {
      "cell_type": "markdown",
      "source": "<h2> Below are a few examples of evaluating arithmetic expressions in Python </h2>",
      "metadata": {}
    },
    {
      "cell_type": "markdown",
      "source": "#### - This a simple arithmetic expression to mutiply then add integers",
      "metadata": {}
    },
    {
      "cell_type": "code",
      "source": "print ((3*4)+ 5)",
      "metadata": {
        "trusted": true
      },
      "execution_count": 16,
      "outputs": [
        {
          "name": "stdout",
          "text": "17\n",
          "output_type": "stream"
        }
      ]
    },
    {
      "cell_type": "markdown",
      "source": "#### - This will convert 200 minutes to hours by diving by 60",
      "metadata": {}
    },
    {
      "cell_type": "code",
      "source": "num = 200\nhours = num // 60\nminutes = num % 60\nprint(f'{hours} hours {minutes} min')",
      "metadata": {
        "trusted": true
      },
      "execution_count": 20,
      "outputs": [
        {
          "name": "stdout",
          "text": "3 hours 20 min\n",
          "output_type": "stream"
        }
      ]
    },
    {
      "cell_type": "markdown",
      "source": "<h1>Objectives:</h1>",
      "metadata": {}
    },
    {
      "cell_type": "markdown",
      "source": "- This course teaches us about popular data science tools and how to use them, such as data scientist tools, including: libraries and packages, datasets, machine learning models, kernels, as well as various open source, commercial tools.\n    - Big Data and cloud-based. \n        - Working with Jupyter Notebooks, JupyterLab, RStudio IDE, Git, GitHub and Watson Studio. \n            - This course gives us a lot of hands-on experience to build skills for working with these data science tools.",
      "metadata": {}
    },
    {
      "cell_type": "markdown",
      "source": "#### -List popular languages for Data Science",
      "metadata": {}
    },
    {
      "cell_type": "markdown",
      "source": "- R.\n- python.\n- SQL.\n- Java.\n- Scala.\n- Julia.\n- MATLAB.\n- Others.",
      "metadata": {}
    },
    {
      "cell_type": "markdown",
      "source": "<h2>Author</h2>",
      "metadata": {}
    },
    {
      "cell_type": "markdown",
      "source": "<h2>- MERARI ORDOÑEZ</h2>",
      "metadata": {}
    },
    {
      "cell_type": "markdown",
      "source": "<img src=https://skills.network/logos/SN_web_lightmode.svg>",
      "metadata": {}
    },
    {
      "cell_type": "code",
      "source": "",
      "metadata": {},
      "execution_count": null,
      "outputs": []
    }
  ]
}